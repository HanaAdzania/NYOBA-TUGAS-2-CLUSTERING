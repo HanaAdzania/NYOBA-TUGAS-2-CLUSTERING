{
  "nbformat": 4,
  "nbformat_minor": 0,
  "metadata": {
    "colab": {
      "provenance": [],
      "authorship_tag": "ABX9TyOg82pFw9rsdT1AgXq8Jj4u",
      "include_colab_link": true
    },
    "kernelspec": {
      "name": "python3",
      "display_name": "Python 3"
    },
    "language_info": {
      "name": "python"
    }
  },
  "cells": [
    {
      "cell_type": "markdown",
      "metadata": {
        "id": "view-in-github",
        "colab_type": "text"
      },
      "source": [
        "<a href=\"https://colab.research.google.com/github/HanaAdzania/NYOBA-TUGAS-2-CLUSTERING/blob/main/Salinan_dari_NYOBA_UPLOAD_GITHUB_TUGAS_2.ipynb\" target=\"_parent\"><img src=\"https://colab.research.google.com/assets/colab-badge.svg\" alt=\"Open In Colab\"/></a>"
      ]
    },
    {
      "cell_type": "code",
      "execution_count": null,
      "metadata": {
        "id": "owhbjsR6Izai"
      },
      "outputs": [],
      "source": [
        "# Loading Data\n",
        "import pandas as pd\n",
        "import numpy as np\n",
        "import matplotlib.pyplot as plt\n",
        "import seaborn as sns\n",
        "import missingno as msnum"
      ]
    },
    {
      "cell_type": "code",
      "source": [
        "#Mengupload data, dimana filenya ada separator titik koma\n",
        "df1 = pd.read_csv('https://raw.githubusercontent.com/HanaAdzania/NYOBA-TUGAS-2-CLUSTERING/main/bisa.csv',low_memory = False, encoding='utf8',sep=\";\")"
      ],
      "metadata": {
        "id": "pZ4UDiPYJFDf"
      },
      "execution_count": null,
      "outputs": []
    },
    {
      "cell_type": "code",
      "source": [
        "#Ingin dilihat tampilan data terlebih dahulu\n",
        "df1"
      ],
      "metadata": {
        "colab": {
          "base_uri": "https://localhost:8080/",
          "height": 206
        },
        "id": "uzQUKsoMJ1zr",
        "outputId": "4cb6d5b4-aae0-4689-decd-6f6ddb0c576b"
      },
      "execution_count": null,
      "outputs": [
        {
          "output_type": "execute_result",
          "data": {
            "text/plain": [
              "    ID Jenis Kelamin  Umur Pendapatan-per-bulan  skor-pengeluaran  Menikah  \\\n",
              "0  101        Wanita    49         Rp13,114,754                52        1   \n",
              "1  102        Wanita    32          Rp3,606,557                86        1   \n",
              "2  103          Pria    51         Rp15,983,606                41        0   \n",
              "3  111        Wanita    31         Rp11,475,409                54        1   \n",
              "4  112          Pria    36         Rp22,508,196                92        1   \n",
              "\n",
              "        Kota Promo HariFav  FavFlavor  \n",
              "0    Jakarta     1   Sabtu          2  \n",
              "1      Depok     1  Minggu          6  \n",
              "2  Tangerang     2  Minggu          3  \n",
              "3    Jakarta     -   Senin          6  \n",
              "4      Depok     0   Jumat          0  "
            ],
            "text/html": [
              "\n",
              "  <div id=\"df-9344d744-d7b8-4377-9604-c69621c3dcd8\">\n",
              "    <div class=\"colab-df-container\">\n",
              "      <div>\n",
              "<style scoped>\n",
              "    .dataframe tbody tr th:only-of-type {\n",
              "        vertical-align: middle;\n",
              "    }\n",
              "\n",
              "    .dataframe tbody tr th {\n",
              "        vertical-align: top;\n",
              "    }\n",
              "\n",
              "    .dataframe thead th {\n",
              "        text-align: right;\n",
              "    }\n",
              "</style>\n",
              "<table border=\"1\" class=\"dataframe\">\n",
              "  <thead>\n",
              "    <tr style=\"text-align: right;\">\n",
              "      <th></th>\n",
              "      <th>ID</th>\n",
              "      <th>Jenis Kelamin</th>\n",
              "      <th>Umur</th>\n",
              "      <th>Pendapatan-per-bulan</th>\n",
              "      <th>skor-pengeluaran</th>\n",
              "      <th>Menikah</th>\n",
              "      <th>Kota</th>\n",
              "      <th>Promo</th>\n",
              "      <th>HariFav</th>\n",
              "      <th>FavFlavor</th>\n",
              "    </tr>\n",
              "  </thead>\n",
              "  <tbody>\n",
              "    <tr>\n",
              "      <th>0</th>\n",
              "      <td>101</td>\n",
              "      <td>Wanita</td>\n",
              "      <td>49</td>\n",
              "      <td>Rp13,114,754</td>\n",
              "      <td>52</td>\n",
              "      <td>1</td>\n",
              "      <td>Jakarta</td>\n",
              "      <td>1</td>\n",
              "      <td>Sabtu</td>\n",
              "      <td>2</td>\n",
              "    </tr>\n",
              "    <tr>\n",
              "      <th>1</th>\n",
              "      <td>102</td>\n",
              "      <td>Wanita</td>\n",
              "      <td>32</td>\n",
              "      <td>Rp3,606,557</td>\n",
              "      <td>86</td>\n",
              "      <td>1</td>\n",
              "      <td>Depok</td>\n",
              "      <td>1</td>\n",
              "      <td>Minggu</td>\n",
              "      <td>6</td>\n",
              "    </tr>\n",
              "    <tr>\n",
              "      <th>2</th>\n",
              "      <td>103</td>\n",
              "      <td>Pria</td>\n",
              "      <td>51</td>\n",
              "      <td>Rp15,983,606</td>\n",
              "      <td>41</td>\n",
              "      <td>0</td>\n",
              "      <td>Tangerang</td>\n",
              "      <td>2</td>\n",
              "      <td>Minggu</td>\n",
              "      <td>3</td>\n",
              "    </tr>\n",
              "    <tr>\n",
              "      <th>3</th>\n",
              "      <td>111</td>\n",
              "      <td>Wanita</td>\n",
              "      <td>31</td>\n",
              "      <td>Rp11,475,409</td>\n",
              "      <td>54</td>\n",
              "      <td>1</td>\n",
              "      <td>Jakarta</td>\n",
              "      <td>-</td>\n",
              "      <td>Senin</td>\n",
              "      <td>6</td>\n",
              "    </tr>\n",
              "    <tr>\n",
              "      <th>4</th>\n",
              "      <td>112</td>\n",
              "      <td>Pria</td>\n",
              "      <td>36</td>\n",
              "      <td>Rp22,508,196</td>\n",
              "      <td>92</td>\n",
              "      <td>1</td>\n",
              "      <td>Depok</td>\n",
              "      <td>0</td>\n",
              "      <td>Jumat</td>\n",
              "      <td>0</td>\n",
              "    </tr>\n",
              "  </tbody>\n",
              "</table>\n",
              "</div>\n",
              "      <button class=\"colab-df-convert\" onclick=\"convertToInteractive('df-9344d744-d7b8-4377-9604-c69621c3dcd8')\"\n",
              "              title=\"Convert this dataframe to an interactive table.\"\n",
              "              style=\"display:none;\">\n",
              "        \n",
              "  <svg xmlns=\"http://www.w3.org/2000/svg\" height=\"24px\"viewBox=\"0 0 24 24\"\n",
              "       width=\"24px\">\n",
              "    <path d=\"M0 0h24v24H0V0z\" fill=\"none\"/>\n",
              "    <path d=\"M18.56 5.44l.94 2.06.94-2.06 2.06-.94-2.06-.94-.94-2.06-.94 2.06-2.06.94zm-11 1L8.5 8.5l.94-2.06 2.06-.94-2.06-.94L8.5 2.5l-.94 2.06-2.06.94zm10 10l.94 2.06.94-2.06 2.06-.94-2.06-.94-.94-2.06-.94 2.06-2.06.94z\"/><path d=\"M17.41 7.96l-1.37-1.37c-.4-.4-.92-.59-1.43-.59-.52 0-1.04.2-1.43.59L10.3 9.45l-7.72 7.72c-.78.78-.78 2.05 0 2.83L4 21.41c.39.39.9.59 1.41.59.51 0 1.02-.2 1.41-.59l7.78-7.78 2.81-2.81c.8-.78.8-2.07 0-2.86zM5.41 20L4 18.59l7.72-7.72 1.47 1.35L5.41 20z\"/>\n",
              "  </svg>\n",
              "      </button>\n",
              "      \n",
              "  <style>\n",
              "    .colab-df-container {\n",
              "      display:flex;\n",
              "      flex-wrap:wrap;\n",
              "      gap: 12px;\n",
              "    }\n",
              "\n",
              "    .colab-df-convert {\n",
              "      background-color: #E8F0FE;\n",
              "      border: none;\n",
              "      border-radius: 50%;\n",
              "      cursor: pointer;\n",
              "      display: none;\n",
              "      fill: #1967D2;\n",
              "      height: 32px;\n",
              "      padding: 0 0 0 0;\n",
              "      width: 32px;\n",
              "    }\n",
              "\n",
              "    .colab-df-convert:hover {\n",
              "      background-color: #E2EBFA;\n",
              "      box-shadow: 0px 1px 2px rgba(60, 64, 67, 0.3), 0px 1px 3px 1px rgba(60, 64, 67, 0.15);\n",
              "      fill: #174EA6;\n",
              "    }\n",
              "\n",
              "    [theme=dark] .colab-df-convert {\n",
              "      background-color: #3B4455;\n",
              "      fill: #D2E3FC;\n",
              "    }\n",
              "\n",
              "    [theme=dark] .colab-df-convert:hover {\n",
              "      background-color: #434B5C;\n",
              "      box-shadow: 0px 1px 3px 1px rgba(0, 0, 0, 0.15);\n",
              "      filter: drop-shadow(0px 1px 2px rgba(0, 0, 0, 0.3));\n",
              "      fill: #FFFFFF;\n",
              "    }\n",
              "  </style>\n",
              "\n",
              "      <script>\n",
              "        const buttonEl =\n",
              "          document.querySelector('#df-9344d744-d7b8-4377-9604-c69621c3dcd8 button.colab-df-convert');\n",
              "        buttonEl.style.display =\n",
              "          google.colab.kernel.accessAllowed ? 'block' : 'none';\n",
              "\n",
              "        async function convertToInteractive(key) {\n",
              "          const element = document.querySelector('#df-9344d744-d7b8-4377-9604-c69621c3dcd8');\n",
              "          const dataTable =\n",
              "            await google.colab.kernel.invokeFunction('convertToInteractive',\n",
              "                                                     [key], {});\n",
              "          if (!dataTable) return;\n",
              "\n",
              "          const docLinkHtml = 'Like what you see? Visit the ' +\n",
              "            '<a target=\"_blank\" href=https://colab.research.google.com/notebooks/data_table.ipynb>data table notebook</a>'\n",
              "            + ' to learn more about interactive tables.';\n",
              "          element.innerHTML = '';\n",
              "          dataTable['output_type'] = 'display_data';\n",
              "          await google.colab.output.renderOutput(dataTable, element);\n",
              "          const docLink = document.createElement('div');\n",
              "          docLink.innerHTML = docLinkHtml;\n",
              "          element.appendChild(docLink);\n",
              "        }\n",
              "      </script>\n",
              "    </div>\n",
              "  </div>\n",
              "  "
            ]
          },
          "metadata": {},
          "execution_count": 74
        }
      ]
    },
    {
      "cell_type": "code",
      "source": [
        "#melihat informasi data--> termasuk tipe datanya\n",
        "df1.info()"
      ],
      "metadata": {
        "colab": {
          "base_uri": "https://localhost:8080/"
        },
        "id": "55igqPKyl-XL",
        "outputId": "31302d6f-992b-4cdc-e4b5-2d599b0e3b0e"
      },
      "execution_count": null,
      "outputs": [
        {
          "output_type": "stream",
          "name": "stdout",
          "text": [
            "<class 'pandas.core.frame.DataFrame'>\n",
            "RangeIndex: 5 entries, 0 to 4\n",
            "Data columns (total 10 columns):\n",
            " #   Column                Non-Null Count  Dtype \n",
            "---  ------                --------------  ----- \n",
            " 0   ID                    5 non-null      int64 \n",
            " 1   Jenis Kelamin         5 non-null      object\n",
            " 2   Umur                  5 non-null      int64 \n",
            " 3   Pendapatan-per-bulan  5 non-null      object\n",
            " 4   skor-pengeluaran      5 non-null      int64 \n",
            " 5   Menikah               5 non-null      int64 \n",
            " 6   Kota                  5 non-null      object\n",
            " 7   Promo                 5 non-null      object\n",
            " 8   HariFav               5 non-null      object\n",
            " 9   FavFlavor             5 non-null      int64 \n",
            "dtypes: int64(5), object(5)\n",
            "memory usage: 528.0+ bytes\n"
          ]
        }
      ]
    },
    {
      "cell_type": "code",
      "source": [
        "df1.describe()"
      ],
      "metadata": {
        "colab": {
          "base_uri": "https://localhost:8080/",
          "height": 300
        },
        "id": "p_vUDBCMoM56",
        "outputId": "139c197f-df43-491c-f70b-80e4d1783457"
      },
      "execution_count": null,
      "outputs": [
        {
          "output_type": "execute_result",
          "data": {
            "text/plain": [
              "               ID       Umur  skor-pengeluaran   Menikah  FavFlavor\n",
              "count    5.000000   5.000000          5.000000  5.000000   5.000000\n",
              "mean   105.800000  39.800000         65.000000  0.800000   3.400000\n",
              "std      5.263079   9.523655         22.561028  0.447214   2.607681\n",
              "min    101.000000  31.000000         41.000000  0.000000   0.000000\n",
              "25%    102.000000  32.000000         52.000000  1.000000   2.000000\n",
              "50%    103.000000  36.000000         54.000000  1.000000   3.000000\n",
              "75%    111.000000  49.000000         86.000000  1.000000   6.000000\n",
              "max    112.000000  51.000000         92.000000  1.000000   6.000000"
            ],
            "text/html": [
              "\n",
              "  <div id=\"df-c5edb944-9185-4319-88b8-388687b7f1b4\">\n",
              "    <div class=\"colab-df-container\">\n",
              "      <div>\n",
              "<style scoped>\n",
              "    .dataframe tbody tr th:only-of-type {\n",
              "        vertical-align: middle;\n",
              "    }\n",
              "\n",
              "    .dataframe tbody tr th {\n",
              "        vertical-align: top;\n",
              "    }\n",
              "\n",
              "    .dataframe thead th {\n",
              "        text-align: right;\n",
              "    }\n",
              "</style>\n",
              "<table border=\"1\" class=\"dataframe\">\n",
              "  <thead>\n",
              "    <tr style=\"text-align: right;\">\n",
              "      <th></th>\n",
              "      <th>ID</th>\n",
              "      <th>Umur</th>\n",
              "      <th>skor-pengeluaran</th>\n",
              "      <th>Menikah</th>\n",
              "      <th>FavFlavor</th>\n",
              "    </tr>\n",
              "  </thead>\n",
              "  <tbody>\n",
              "    <tr>\n",
              "      <th>count</th>\n",
              "      <td>5.000000</td>\n",
              "      <td>5.000000</td>\n",
              "      <td>5.000000</td>\n",
              "      <td>5.000000</td>\n",
              "      <td>5.000000</td>\n",
              "    </tr>\n",
              "    <tr>\n",
              "      <th>mean</th>\n",
              "      <td>105.800000</td>\n",
              "      <td>39.800000</td>\n",
              "      <td>65.000000</td>\n",
              "      <td>0.800000</td>\n",
              "      <td>3.400000</td>\n",
              "    </tr>\n",
              "    <tr>\n",
              "      <th>std</th>\n",
              "      <td>5.263079</td>\n",
              "      <td>9.523655</td>\n",
              "      <td>22.561028</td>\n",
              "      <td>0.447214</td>\n",
              "      <td>2.607681</td>\n",
              "    </tr>\n",
              "    <tr>\n",
              "      <th>min</th>\n",
              "      <td>101.000000</td>\n",
              "      <td>31.000000</td>\n",
              "      <td>41.000000</td>\n",
              "      <td>0.000000</td>\n",
              "      <td>0.000000</td>\n",
              "    </tr>\n",
              "    <tr>\n",
              "      <th>25%</th>\n",
              "      <td>102.000000</td>\n",
              "      <td>32.000000</td>\n",
              "      <td>52.000000</td>\n",
              "      <td>1.000000</td>\n",
              "      <td>2.000000</td>\n",
              "    </tr>\n",
              "    <tr>\n",
              "      <th>50%</th>\n",
              "      <td>103.000000</td>\n",
              "      <td>36.000000</td>\n",
              "      <td>54.000000</td>\n",
              "      <td>1.000000</td>\n",
              "      <td>3.000000</td>\n",
              "    </tr>\n",
              "    <tr>\n",
              "      <th>75%</th>\n",
              "      <td>111.000000</td>\n",
              "      <td>49.000000</td>\n",
              "      <td>86.000000</td>\n",
              "      <td>1.000000</td>\n",
              "      <td>6.000000</td>\n",
              "    </tr>\n",
              "    <tr>\n",
              "      <th>max</th>\n",
              "      <td>112.000000</td>\n",
              "      <td>51.000000</td>\n",
              "      <td>92.000000</td>\n",
              "      <td>1.000000</td>\n",
              "      <td>6.000000</td>\n",
              "    </tr>\n",
              "  </tbody>\n",
              "</table>\n",
              "</div>\n",
              "      <button class=\"colab-df-convert\" onclick=\"convertToInteractive('df-c5edb944-9185-4319-88b8-388687b7f1b4')\"\n",
              "              title=\"Convert this dataframe to an interactive table.\"\n",
              "              style=\"display:none;\">\n",
              "        \n",
              "  <svg xmlns=\"http://www.w3.org/2000/svg\" height=\"24px\"viewBox=\"0 0 24 24\"\n",
              "       width=\"24px\">\n",
              "    <path d=\"M0 0h24v24H0V0z\" fill=\"none\"/>\n",
              "    <path d=\"M18.56 5.44l.94 2.06.94-2.06 2.06-.94-2.06-.94-.94-2.06-.94 2.06-2.06.94zm-11 1L8.5 8.5l.94-2.06 2.06-.94-2.06-.94L8.5 2.5l-.94 2.06-2.06.94zm10 10l.94 2.06.94-2.06 2.06-.94-2.06-.94-.94-2.06-.94 2.06-2.06.94z\"/><path d=\"M17.41 7.96l-1.37-1.37c-.4-.4-.92-.59-1.43-.59-.52 0-1.04.2-1.43.59L10.3 9.45l-7.72 7.72c-.78.78-.78 2.05 0 2.83L4 21.41c.39.39.9.59 1.41.59.51 0 1.02-.2 1.41-.59l7.78-7.78 2.81-2.81c.8-.78.8-2.07 0-2.86zM5.41 20L4 18.59l7.72-7.72 1.47 1.35L5.41 20z\"/>\n",
              "  </svg>\n",
              "      </button>\n",
              "      \n",
              "  <style>\n",
              "    .colab-df-container {\n",
              "      display:flex;\n",
              "      flex-wrap:wrap;\n",
              "      gap: 12px;\n",
              "    }\n",
              "\n",
              "    .colab-df-convert {\n",
              "      background-color: #E8F0FE;\n",
              "      border: none;\n",
              "      border-radius: 50%;\n",
              "      cursor: pointer;\n",
              "      display: none;\n",
              "      fill: #1967D2;\n",
              "      height: 32px;\n",
              "      padding: 0 0 0 0;\n",
              "      width: 32px;\n",
              "    }\n",
              "\n",
              "    .colab-df-convert:hover {\n",
              "      background-color: #E2EBFA;\n",
              "      box-shadow: 0px 1px 2px rgba(60, 64, 67, 0.3), 0px 1px 3px 1px rgba(60, 64, 67, 0.15);\n",
              "      fill: #174EA6;\n",
              "    }\n",
              "\n",
              "    [theme=dark] .colab-df-convert {\n",
              "      background-color: #3B4455;\n",
              "      fill: #D2E3FC;\n",
              "    }\n",
              "\n",
              "    [theme=dark] .colab-df-convert:hover {\n",
              "      background-color: #434B5C;\n",
              "      box-shadow: 0px 1px 3px 1px rgba(0, 0, 0, 0.15);\n",
              "      filter: drop-shadow(0px 1px 2px rgba(0, 0, 0, 0.3));\n",
              "      fill: #FFFFFF;\n",
              "    }\n",
              "  </style>\n",
              "\n",
              "      <script>\n",
              "        const buttonEl =\n",
              "          document.querySelector('#df-c5edb944-9185-4319-88b8-388687b7f1b4 button.colab-df-convert');\n",
              "        buttonEl.style.display =\n",
              "          google.colab.kernel.accessAllowed ? 'block' : 'none';\n",
              "\n",
              "        async function convertToInteractive(key) {\n",
              "          const element = document.querySelector('#df-c5edb944-9185-4319-88b8-388687b7f1b4');\n",
              "          const dataTable =\n",
              "            await google.colab.kernel.invokeFunction('convertToInteractive',\n",
              "                                                     [key], {});\n",
              "          if (!dataTable) return;\n",
              "\n",
              "          const docLinkHtml = 'Like what you see? Visit the ' +\n",
              "            '<a target=\"_blank\" href=https://colab.research.google.com/notebooks/data_table.ipynb>data table notebook</a>'\n",
              "            + ' to learn more about interactive tables.';\n",
              "          element.innerHTML = '';\n",
              "          dataTable['output_type'] = 'display_data';\n",
              "          await google.colab.output.renderOutput(dataTable, element);\n",
              "          const docLink = document.createElement('div');\n",
              "          docLink.innerHTML = docLinkHtml;\n",
              "          element.appendChild(docLink);\n",
              "        }\n",
              "      </script>\n",
              "    </div>\n",
              "  </div>\n",
              "  "
            ]
          },
          "metadata": {},
          "execution_count": 76
        }
      ]
    },
    {
      "cell_type": "code",
      "source": [
        "#Mengupload data dimana datanya separator pemisahanya koma aja\n",
        "df = pd.read_csv('https://raw.githubusercontent.com/HanaAdzania/NYOBA-TUGAS-2-CLUSTERING/main/Coba%20Upload%20File%20Excel%20Github.csv',low_memory = False, encoding='utf8')"
      ],
      "metadata": {
        "id": "BWtkbE5tp2EX"
      },
      "execution_count": null,
      "outputs": []
    },
    {
      "cell_type": "code",
      "source": [
        "df"
      ],
      "metadata": {
        "colab": {
          "base_uri": "https://localhost:8080/",
          "height": 206
        },
        "id": "4xWNMv7mqA04",
        "outputId": "6eb581e3-ab90-49eb-8267-3dea607d14b8"
      },
      "execution_count": null,
      "outputs": [
        {
          "output_type": "execute_result",
          "data": {
            "text/plain": [
              "    ID Jenis Kelamin  Umur  Pendapatan-per-bulan  skor-pengeluaran  Menikah  \\\n",
              "0  101        Wanita    49              13114754                52        1   \n",
              "1  102        Wanita    32               3606557                86        1   \n",
              "2  103          Pria    51              15983606                41        0   \n",
              "3  111        Wanita    31              11475409                54        1   \n",
              "4  112          Pria    36              22508196                92        1   \n",
              "\n",
              "        Kota Promo HariFav  FavFlavor  \n",
              "0    Jakarta     1   Sabtu          2  \n",
              "1      Depok     1  Minggu          6  \n",
              "2  Tangerang     2  Minggu          3  \n",
              "3    Jakarta     -   Senin          6  \n",
              "4      Depok     0   Jumat          0  "
            ],
            "text/html": [
              "\n",
              "  <div id=\"df-fa1f476b-c494-46d7-8692-85367a23fe09\">\n",
              "    <div class=\"colab-df-container\">\n",
              "      <div>\n",
              "<style scoped>\n",
              "    .dataframe tbody tr th:only-of-type {\n",
              "        vertical-align: middle;\n",
              "    }\n",
              "\n",
              "    .dataframe tbody tr th {\n",
              "        vertical-align: top;\n",
              "    }\n",
              "\n",
              "    .dataframe thead th {\n",
              "        text-align: right;\n",
              "    }\n",
              "</style>\n",
              "<table border=\"1\" class=\"dataframe\">\n",
              "  <thead>\n",
              "    <tr style=\"text-align: right;\">\n",
              "      <th></th>\n",
              "      <th>ID</th>\n",
              "      <th>Jenis Kelamin</th>\n",
              "      <th>Umur</th>\n",
              "      <th>Pendapatan-per-bulan</th>\n",
              "      <th>skor-pengeluaran</th>\n",
              "      <th>Menikah</th>\n",
              "      <th>Kota</th>\n",
              "      <th>Promo</th>\n",
              "      <th>HariFav</th>\n",
              "      <th>FavFlavor</th>\n",
              "    </tr>\n",
              "  </thead>\n",
              "  <tbody>\n",
              "    <tr>\n",
              "      <th>0</th>\n",
              "      <td>101</td>\n",
              "      <td>Wanita</td>\n",
              "      <td>49</td>\n",
              "      <td>13114754</td>\n",
              "      <td>52</td>\n",
              "      <td>1</td>\n",
              "      <td>Jakarta</td>\n",
              "      <td>1</td>\n",
              "      <td>Sabtu</td>\n",
              "      <td>2</td>\n",
              "    </tr>\n",
              "    <tr>\n",
              "      <th>1</th>\n",
              "      <td>102</td>\n",
              "      <td>Wanita</td>\n",
              "      <td>32</td>\n",
              "      <td>3606557</td>\n",
              "      <td>86</td>\n",
              "      <td>1</td>\n",
              "      <td>Depok</td>\n",
              "      <td>1</td>\n",
              "      <td>Minggu</td>\n",
              "      <td>6</td>\n",
              "    </tr>\n",
              "    <tr>\n",
              "      <th>2</th>\n",
              "      <td>103</td>\n",
              "      <td>Pria</td>\n",
              "      <td>51</td>\n",
              "      <td>15983606</td>\n",
              "      <td>41</td>\n",
              "      <td>0</td>\n",
              "      <td>Tangerang</td>\n",
              "      <td>2</td>\n",
              "      <td>Minggu</td>\n",
              "      <td>3</td>\n",
              "    </tr>\n",
              "    <tr>\n",
              "      <th>3</th>\n",
              "      <td>111</td>\n",
              "      <td>Wanita</td>\n",
              "      <td>31</td>\n",
              "      <td>11475409</td>\n",
              "      <td>54</td>\n",
              "      <td>1</td>\n",
              "      <td>Jakarta</td>\n",
              "      <td>-</td>\n",
              "      <td>Senin</td>\n",
              "      <td>6</td>\n",
              "    </tr>\n",
              "    <tr>\n",
              "      <th>4</th>\n",
              "      <td>112</td>\n",
              "      <td>Pria</td>\n",
              "      <td>36</td>\n",
              "      <td>22508196</td>\n",
              "      <td>92</td>\n",
              "      <td>1</td>\n",
              "      <td>Depok</td>\n",
              "      <td>0</td>\n",
              "      <td>Jumat</td>\n",
              "      <td>0</td>\n",
              "    </tr>\n",
              "  </tbody>\n",
              "</table>\n",
              "</div>\n",
              "      <button class=\"colab-df-convert\" onclick=\"convertToInteractive('df-fa1f476b-c494-46d7-8692-85367a23fe09')\"\n",
              "              title=\"Convert this dataframe to an interactive table.\"\n",
              "              style=\"display:none;\">\n",
              "        \n",
              "  <svg xmlns=\"http://www.w3.org/2000/svg\" height=\"24px\"viewBox=\"0 0 24 24\"\n",
              "       width=\"24px\">\n",
              "    <path d=\"M0 0h24v24H0V0z\" fill=\"none\"/>\n",
              "    <path d=\"M18.56 5.44l.94 2.06.94-2.06 2.06-.94-2.06-.94-.94-2.06-.94 2.06-2.06.94zm-11 1L8.5 8.5l.94-2.06 2.06-.94-2.06-.94L8.5 2.5l-.94 2.06-2.06.94zm10 10l.94 2.06.94-2.06 2.06-.94-2.06-.94-.94-2.06-.94 2.06-2.06.94z\"/><path d=\"M17.41 7.96l-1.37-1.37c-.4-.4-.92-.59-1.43-.59-.52 0-1.04.2-1.43.59L10.3 9.45l-7.72 7.72c-.78.78-.78 2.05 0 2.83L4 21.41c.39.39.9.59 1.41.59.51 0 1.02-.2 1.41-.59l7.78-7.78 2.81-2.81c.8-.78.8-2.07 0-2.86zM5.41 20L4 18.59l7.72-7.72 1.47 1.35L5.41 20z\"/>\n",
              "  </svg>\n",
              "      </button>\n",
              "      \n",
              "  <style>\n",
              "    .colab-df-container {\n",
              "      display:flex;\n",
              "      flex-wrap:wrap;\n",
              "      gap: 12px;\n",
              "    }\n",
              "\n",
              "    .colab-df-convert {\n",
              "      background-color: #E8F0FE;\n",
              "      border: none;\n",
              "      border-radius: 50%;\n",
              "      cursor: pointer;\n",
              "      display: none;\n",
              "      fill: #1967D2;\n",
              "      height: 32px;\n",
              "      padding: 0 0 0 0;\n",
              "      width: 32px;\n",
              "    }\n",
              "\n",
              "    .colab-df-convert:hover {\n",
              "      background-color: #E2EBFA;\n",
              "      box-shadow: 0px 1px 2px rgba(60, 64, 67, 0.3), 0px 1px 3px 1px rgba(60, 64, 67, 0.15);\n",
              "      fill: #174EA6;\n",
              "    }\n",
              "\n",
              "    [theme=dark] .colab-df-convert {\n",
              "      background-color: #3B4455;\n",
              "      fill: #D2E3FC;\n",
              "    }\n",
              "\n",
              "    [theme=dark] .colab-df-convert:hover {\n",
              "      background-color: #434B5C;\n",
              "      box-shadow: 0px 1px 3px 1px rgba(0, 0, 0, 0.15);\n",
              "      filter: drop-shadow(0px 1px 2px rgba(0, 0, 0, 0.3));\n",
              "      fill: #FFFFFF;\n",
              "    }\n",
              "  </style>\n",
              "\n",
              "      <script>\n",
              "        const buttonEl =\n",
              "          document.querySelector('#df-fa1f476b-c494-46d7-8692-85367a23fe09 button.colab-df-convert');\n",
              "        buttonEl.style.display =\n",
              "          google.colab.kernel.accessAllowed ? 'block' : 'none';\n",
              "\n",
              "        async function convertToInteractive(key) {\n",
              "          const element = document.querySelector('#df-fa1f476b-c494-46d7-8692-85367a23fe09');\n",
              "          const dataTable =\n",
              "            await google.colab.kernel.invokeFunction('convertToInteractive',\n",
              "                                                     [key], {});\n",
              "          if (!dataTable) return;\n",
              "\n",
              "          const docLinkHtml = 'Like what you see? Visit the ' +\n",
              "            '<a target=\"_blank\" href=https://colab.research.google.com/notebooks/data_table.ipynb>data table notebook</a>'\n",
              "            + ' to learn more about interactive tables.';\n",
              "          element.innerHTML = '';\n",
              "          dataTable['output_type'] = 'display_data';\n",
              "          await google.colab.output.renderOutput(dataTable, element);\n",
              "          const docLink = document.createElement('div');\n",
              "          docLink.innerHTML = docLinkHtml;\n",
              "          element.appendChild(docLink);\n",
              "        }\n",
              "      </script>\n",
              "    </div>\n",
              "  </div>\n",
              "  "
            ]
          },
          "metadata": {},
          "execution_count": 78
        }
      ]
    },
    {
      "cell_type": "code",
      "source": [
        "df.tail(3)#melihat dari data yang bawah, memastikan ID hanya berupa angka urutan saja"
      ],
      "metadata": {
        "colab": {
          "base_uri": "https://localhost:8080/",
          "height": 143
        },
        "id": "lGW9SFqcttdI",
        "outputId": "a674e41b-ec7b-45e9-c001-9e871dd2c2d5"
      },
      "execution_count": null,
      "outputs": [
        {
          "output_type": "execute_result",
          "data": {
            "text/plain": [
              "    ID Jenis Kelamin  Umur  Pendapatan-per-bulan  skor-pengeluaran  Menikah  \\\n",
              "2  103          Pria    51              15983606                41        0   \n",
              "3  111        Wanita    31              11475409                54        1   \n",
              "4  112          Pria    36              22508196                92        1   \n",
              "\n",
              "        Kota Promo HariFav  FavFlavor  \n",
              "2  Tangerang     2  Minggu          3  \n",
              "3    Jakarta     -   Senin          6  \n",
              "4      Depok     0   Jumat          0  "
            ],
            "text/html": [
              "\n",
              "  <div id=\"df-250dd531-226f-4fea-9c8f-fd88f7d46c5a\">\n",
              "    <div class=\"colab-df-container\">\n",
              "      <div>\n",
              "<style scoped>\n",
              "    .dataframe tbody tr th:only-of-type {\n",
              "        vertical-align: middle;\n",
              "    }\n",
              "\n",
              "    .dataframe tbody tr th {\n",
              "        vertical-align: top;\n",
              "    }\n",
              "\n",
              "    .dataframe thead th {\n",
              "        text-align: right;\n",
              "    }\n",
              "</style>\n",
              "<table border=\"1\" class=\"dataframe\">\n",
              "  <thead>\n",
              "    <tr style=\"text-align: right;\">\n",
              "      <th></th>\n",
              "      <th>ID</th>\n",
              "      <th>Jenis Kelamin</th>\n",
              "      <th>Umur</th>\n",
              "      <th>Pendapatan-per-bulan</th>\n",
              "      <th>skor-pengeluaran</th>\n",
              "      <th>Menikah</th>\n",
              "      <th>Kota</th>\n",
              "      <th>Promo</th>\n",
              "      <th>HariFav</th>\n",
              "      <th>FavFlavor</th>\n",
              "    </tr>\n",
              "  </thead>\n",
              "  <tbody>\n",
              "    <tr>\n",
              "      <th>2</th>\n",
              "      <td>103</td>\n",
              "      <td>Pria</td>\n",
              "      <td>51</td>\n",
              "      <td>15983606</td>\n",
              "      <td>41</td>\n",
              "      <td>0</td>\n",
              "      <td>Tangerang</td>\n",
              "      <td>2</td>\n",
              "      <td>Minggu</td>\n",
              "      <td>3</td>\n",
              "    </tr>\n",
              "    <tr>\n",
              "      <th>3</th>\n",
              "      <td>111</td>\n",
              "      <td>Wanita</td>\n",
              "      <td>31</td>\n",
              "      <td>11475409</td>\n",
              "      <td>54</td>\n",
              "      <td>1</td>\n",
              "      <td>Jakarta</td>\n",
              "      <td>-</td>\n",
              "      <td>Senin</td>\n",
              "      <td>6</td>\n",
              "    </tr>\n",
              "    <tr>\n",
              "      <th>4</th>\n",
              "      <td>112</td>\n",
              "      <td>Pria</td>\n",
              "      <td>36</td>\n",
              "      <td>22508196</td>\n",
              "      <td>92</td>\n",
              "      <td>1</td>\n",
              "      <td>Depok</td>\n",
              "      <td>0</td>\n",
              "      <td>Jumat</td>\n",
              "      <td>0</td>\n",
              "    </tr>\n",
              "  </tbody>\n",
              "</table>\n",
              "</div>\n",
              "      <button class=\"colab-df-convert\" onclick=\"convertToInteractive('df-250dd531-226f-4fea-9c8f-fd88f7d46c5a')\"\n",
              "              title=\"Convert this dataframe to an interactive table.\"\n",
              "              style=\"display:none;\">\n",
              "        \n",
              "  <svg xmlns=\"http://www.w3.org/2000/svg\" height=\"24px\"viewBox=\"0 0 24 24\"\n",
              "       width=\"24px\">\n",
              "    <path d=\"M0 0h24v24H0V0z\" fill=\"none\"/>\n",
              "    <path d=\"M18.56 5.44l.94 2.06.94-2.06 2.06-.94-2.06-.94-.94-2.06-.94 2.06-2.06.94zm-11 1L8.5 8.5l.94-2.06 2.06-.94-2.06-.94L8.5 2.5l-.94 2.06-2.06.94zm10 10l.94 2.06.94-2.06 2.06-.94-2.06-.94-.94-2.06-.94 2.06-2.06.94z\"/><path d=\"M17.41 7.96l-1.37-1.37c-.4-.4-.92-.59-1.43-.59-.52 0-1.04.2-1.43.59L10.3 9.45l-7.72 7.72c-.78.78-.78 2.05 0 2.83L4 21.41c.39.39.9.59 1.41.59.51 0 1.02-.2 1.41-.59l7.78-7.78 2.81-2.81c.8-.78.8-2.07 0-2.86zM5.41 20L4 18.59l7.72-7.72 1.47 1.35L5.41 20z\"/>\n",
              "  </svg>\n",
              "      </button>\n",
              "      \n",
              "  <style>\n",
              "    .colab-df-container {\n",
              "      display:flex;\n",
              "      flex-wrap:wrap;\n",
              "      gap: 12px;\n",
              "    }\n",
              "\n",
              "    .colab-df-convert {\n",
              "      background-color: #E8F0FE;\n",
              "      border: none;\n",
              "      border-radius: 50%;\n",
              "      cursor: pointer;\n",
              "      display: none;\n",
              "      fill: #1967D2;\n",
              "      height: 32px;\n",
              "      padding: 0 0 0 0;\n",
              "      width: 32px;\n",
              "    }\n",
              "\n",
              "    .colab-df-convert:hover {\n",
              "      background-color: #E2EBFA;\n",
              "      box-shadow: 0px 1px 2px rgba(60, 64, 67, 0.3), 0px 1px 3px 1px rgba(60, 64, 67, 0.15);\n",
              "      fill: #174EA6;\n",
              "    }\n",
              "\n",
              "    [theme=dark] .colab-df-convert {\n",
              "      background-color: #3B4455;\n",
              "      fill: #D2E3FC;\n",
              "    }\n",
              "\n",
              "    [theme=dark] .colab-df-convert:hover {\n",
              "      background-color: #434B5C;\n",
              "      box-shadow: 0px 1px 3px 1px rgba(0, 0, 0, 0.15);\n",
              "      filter: drop-shadow(0px 1px 2px rgba(0, 0, 0, 0.3));\n",
              "      fill: #FFFFFF;\n",
              "    }\n",
              "  </style>\n",
              "\n",
              "      <script>\n",
              "        const buttonEl =\n",
              "          document.querySelector('#df-250dd531-226f-4fea-9c8f-fd88f7d46c5a button.colab-df-convert');\n",
              "        buttonEl.style.display =\n",
              "          google.colab.kernel.accessAllowed ? 'block' : 'none';\n",
              "\n",
              "        async function convertToInteractive(key) {\n",
              "          const element = document.querySelector('#df-250dd531-226f-4fea-9c8f-fd88f7d46c5a');\n",
              "          const dataTable =\n",
              "            await google.colab.kernel.invokeFunction('convertToInteractive',\n",
              "                                                     [key], {});\n",
              "          if (!dataTable) return;\n",
              "\n",
              "          const docLinkHtml = 'Like what you see? Visit the ' +\n",
              "            '<a target=\"_blank\" href=https://colab.research.google.com/notebooks/data_table.ipynb>data table notebook</a>'\n",
              "            + ' to learn more about interactive tables.';\n",
              "          element.innerHTML = '';\n",
              "          dataTable['output_type'] = 'display_data';\n",
              "          await google.colab.output.renderOutput(dataTable, element);\n",
              "          const docLink = document.createElement('div');\n",
              "          docLink.innerHTML = docLinkHtml;\n",
              "          element.appendChild(docLink);\n",
              "        }\n",
              "      </script>\n",
              "    </div>\n",
              "  </div>\n",
              "  "
            ]
          },
          "metadata": {},
          "execution_count": 79
        }
      ]
    },
    {
      "cell_type": "code",
      "source": [
        "df.shape"
      ],
      "metadata": {
        "colab": {
          "base_uri": "https://localhost:8080/"
        },
        "id": "8tKkXstSt7qS",
        "outputId": "dff91350-ddbf-44e5-9c8e-d48356b04988"
      },
      "execution_count": null,
      "outputs": [
        {
          "output_type": "execute_result",
          "data": {
            "text/plain": [
              "(5, 10)"
            ]
          },
          "metadata": {},
          "execution_count": 80
        }
      ]
    },
    {
      "cell_type": "code",
      "source": [
        "df.columns"
      ],
      "metadata": {
        "colab": {
          "base_uri": "https://localhost:8080/"
        },
        "id": "rzsnERckumju",
        "outputId": "d613872d-f5d4-40d7-d1f6-6bfcaa750315"
      },
      "execution_count": null,
      "outputs": [
        {
          "output_type": "execute_result",
          "data": {
            "text/plain": [
              "Index(['ID', 'Jenis Kelamin', 'Umur', 'Pendapatan-per-bulan',\n",
              "       'skor-pengeluaran', 'Menikah', 'Kota', 'Promo', 'HariFav', 'FavFlavor'],\n",
              "      dtype='object')"
            ]
          },
          "metadata": {},
          "execution_count": 81
        }
      ]
    },
    {
      "cell_type": "code",
      "source": [
        "#Menghapus kolom ID, karena tidak diperlukan dalam analisis (hanya berupa index yang berisikan angka urutan kapan customer melakukan pendaftaran loyality program)\n",
        "df.drop(\"ID\",axis=1,inplace=True)\n",
        "df.head()"
      ],
      "metadata": {
        "colab": {
          "base_uri": "https://localhost:8080/",
          "height": 206
        },
        "id": "WcE4f7aXuK1b",
        "outputId": "b79deae8-a702-41a8-d442-feccafcfad22"
      },
      "execution_count": null,
      "outputs": [
        {
          "output_type": "execute_result",
          "data": {
            "text/plain": [
              "  Jenis Kelamin  Umur  Pendapatan-per-bulan  skor-pengeluaran  Menikah  \\\n",
              "0        Wanita    49              13114754                52        1   \n",
              "1        Wanita    32               3606557                86        1   \n",
              "2          Pria    51              15983606                41        0   \n",
              "3        Wanita    31              11475409                54        1   \n",
              "4          Pria    36              22508196                92        1   \n",
              "\n",
              "        Kota Promo HariFav  FavFlavor  \n",
              "0    Jakarta     1   Sabtu          2  \n",
              "1      Depok     1  Minggu          6  \n",
              "2  Tangerang     2  Minggu          3  \n",
              "3    Jakarta     -   Senin          6  \n",
              "4      Depok     0   Jumat          0  "
            ],
            "text/html": [
              "\n",
              "  <div id=\"df-c45b1dcc-5791-4cf3-a105-96727ba30caa\">\n",
              "    <div class=\"colab-df-container\">\n",
              "      <div>\n",
              "<style scoped>\n",
              "    .dataframe tbody tr th:only-of-type {\n",
              "        vertical-align: middle;\n",
              "    }\n",
              "\n",
              "    .dataframe tbody tr th {\n",
              "        vertical-align: top;\n",
              "    }\n",
              "\n",
              "    .dataframe thead th {\n",
              "        text-align: right;\n",
              "    }\n",
              "</style>\n",
              "<table border=\"1\" class=\"dataframe\">\n",
              "  <thead>\n",
              "    <tr style=\"text-align: right;\">\n",
              "      <th></th>\n",
              "      <th>Jenis Kelamin</th>\n",
              "      <th>Umur</th>\n",
              "      <th>Pendapatan-per-bulan</th>\n",
              "      <th>skor-pengeluaran</th>\n",
              "      <th>Menikah</th>\n",
              "      <th>Kota</th>\n",
              "      <th>Promo</th>\n",
              "      <th>HariFav</th>\n",
              "      <th>FavFlavor</th>\n",
              "    </tr>\n",
              "  </thead>\n",
              "  <tbody>\n",
              "    <tr>\n",
              "      <th>0</th>\n",
              "      <td>Wanita</td>\n",
              "      <td>49</td>\n",
              "      <td>13114754</td>\n",
              "      <td>52</td>\n",
              "      <td>1</td>\n",
              "      <td>Jakarta</td>\n",
              "      <td>1</td>\n",
              "      <td>Sabtu</td>\n",
              "      <td>2</td>\n",
              "    </tr>\n",
              "    <tr>\n",
              "      <th>1</th>\n",
              "      <td>Wanita</td>\n",
              "      <td>32</td>\n",
              "      <td>3606557</td>\n",
              "      <td>86</td>\n",
              "      <td>1</td>\n",
              "      <td>Depok</td>\n",
              "      <td>1</td>\n",
              "      <td>Minggu</td>\n",
              "      <td>6</td>\n",
              "    </tr>\n",
              "    <tr>\n",
              "      <th>2</th>\n",
              "      <td>Pria</td>\n",
              "      <td>51</td>\n",
              "      <td>15983606</td>\n",
              "      <td>41</td>\n",
              "      <td>0</td>\n",
              "      <td>Tangerang</td>\n",
              "      <td>2</td>\n",
              "      <td>Minggu</td>\n",
              "      <td>3</td>\n",
              "    </tr>\n",
              "    <tr>\n",
              "      <th>3</th>\n",
              "      <td>Wanita</td>\n",
              "      <td>31</td>\n",
              "      <td>11475409</td>\n",
              "      <td>54</td>\n",
              "      <td>1</td>\n",
              "      <td>Jakarta</td>\n",
              "      <td>-</td>\n",
              "      <td>Senin</td>\n",
              "      <td>6</td>\n",
              "    </tr>\n",
              "    <tr>\n",
              "      <th>4</th>\n",
              "      <td>Pria</td>\n",
              "      <td>36</td>\n",
              "      <td>22508196</td>\n",
              "      <td>92</td>\n",
              "      <td>1</td>\n",
              "      <td>Depok</td>\n",
              "      <td>0</td>\n",
              "      <td>Jumat</td>\n",
              "      <td>0</td>\n",
              "    </tr>\n",
              "  </tbody>\n",
              "</table>\n",
              "</div>\n",
              "      <button class=\"colab-df-convert\" onclick=\"convertToInteractive('df-c45b1dcc-5791-4cf3-a105-96727ba30caa')\"\n",
              "              title=\"Convert this dataframe to an interactive table.\"\n",
              "              style=\"display:none;\">\n",
              "        \n",
              "  <svg xmlns=\"http://www.w3.org/2000/svg\" height=\"24px\"viewBox=\"0 0 24 24\"\n",
              "       width=\"24px\">\n",
              "    <path d=\"M0 0h24v24H0V0z\" fill=\"none\"/>\n",
              "    <path d=\"M18.56 5.44l.94 2.06.94-2.06 2.06-.94-2.06-.94-.94-2.06-.94 2.06-2.06.94zm-11 1L8.5 8.5l.94-2.06 2.06-.94-2.06-.94L8.5 2.5l-.94 2.06-2.06.94zm10 10l.94 2.06.94-2.06 2.06-.94-2.06-.94-.94-2.06-.94 2.06-2.06.94z\"/><path d=\"M17.41 7.96l-1.37-1.37c-.4-.4-.92-.59-1.43-.59-.52 0-1.04.2-1.43.59L10.3 9.45l-7.72 7.72c-.78.78-.78 2.05 0 2.83L4 21.41c.39.39.9.59 1.41.59.51 0 1.02-.2 1.41-.59l7.78-7.78 2.81-2.81c.8-.78.8-2.07 0-2.86zM5.41 20L4 18.59l7.72-7.72 1.47 1.35L5.41 20z\"/>\n",
              "  </svg>\n",
              "      </button>\n",
              "      \n",
              "  <style>\n",
              "    .colab-df-container {\n",
              "      display:flex;\n",
              "      flex-wrap:wrap;\n",
              "      gap: 12px;\n",
              "    }\n",
              "\n",
              "    .colab-df-convert {\n",
              "      background-color: #E8F0FE;\n",
              "      border: none;\n",
              "      border-radius: 50%;\n",
              "      cursor: pointer;\n",
              "      display: none;\n",
              "      fill: #1967D2;\n",
              "      height: 32px;\n",
              "      padding: 0 0 0 0;\n",
              "      width: 32px;\n",
              "    }\n",
              "\n",
              "    .colab-df-convert:hover {\n",
              "      background-color: #E2EBFA;\n",
              "      box-shadow: 0px 1px 2px rgba(60, 64, 67, 0.3), 0px 1px 3px 1px rgba(60, 64, 67, 0.15);\n",
              "      fill: #174EA6;\n",
              "    }\n",
              "\n",
              "    [theme=dark] .colab-df-convert {\n",
              "      background-color: #3B4455;\n",
              "      fill: #D2E3FC;\n",
              "    }\n",
              "\n",
              "    [theme=dark] .colab-df-convert:hover {\n",
              "      background-color: #434B5C;\n",
              "      box-shadow: 0px 1px 3px 1px rgba(0, 0, 0, 0.15);\n",
              "      filter: drop-shadow(0px 1px 2px rgba(0, 0, 0, 0.3));\n",
              "      fill: #FFFFFF;\n",
              "    }\n",
              "  </style>\n",
              "\n",
              "      <script>\n",
              "        const buttonEl =\n",
              "          document.querySelector('#df-c45b1dcc-5791-4cf3-a105-96727ba30caa button.colab-df-convert');\n",
              "        buttonEl.style.display =\n",
              "          google.colab.kernel.accessAllowed ? 'block' : 'none';\n",
              "\n",
              "        async function convertToInteractive(key) {\n",
              "          const element = document.querySelector('#df-c45b1dcc-5791-4cf3-a105-96727ba30caa');\n",
              "          const dataTable =\n",
              "            await google.colab.kernel.invokeFunction('convertToInteractive',\n",
              "                                                     [key], {});\n",
              "          if (!dataTable) return;\n",
              "\n",
              "          const docLinkHtml = 'Like what you see? Visit the ' +\n",
              "            '<a target=\"_blank\" href=https://colab.research.google.com/notebooks/data_table.ipynb>data table notebook</a>'\n",
              "            + ' to learn more about interactive tables.';\n",
              "          element.innerHTML = '';\n",
              "          dataTable['output_type'] = 'display_data';\n",
              "          await google.colab.output.renderOutput(dataTable, element);\n",
              "          const docLink = document.createElement('div');\n",
              "          docLink.innerHTML = docLinkHtml;\n",
              "          element.appendChild(docLink);\n",
              "        }\n",
              "      </script>\n",
              "    </div>\n",
              "  </div>\n",
              "  "
            ]
          },
          "metadata": {},
          "execution_count": 82
        }
      ]
    },
    {
      "cell_type": "markdown",
      "source": [
        "## Mengoreksi Tipe Variabel"
      ],
      "metadata": {
        "id": "DJr_q4rzu39P"
      }
    },
    {
      "cell_type": "markdown",
      "source": [
        "Akan diperiksa tipe data tiap kolom"
      ],
      "metadata": {
        "id": "AXnsAAyDvADb"
      }
    },
    {
      "cell_type": "code",
      "source": [
        "df.info()"
      ],
      "metadata": {
        "colab": {
          "base_uri": "https://localhost:8080/"
        },
        "id": "RWdJGDk-qE1W",
        "outputId": "2d9bd4ed-7556-40ae-e497-0f900780152b"
      },
      "execution_count": null,
      "outputs": [
        {
          "output_type": "stream",
          "name": "stdout",
          "text": [
            "<class 'pandas.core.frame.DataFrame'>\n",
            "RangeIndex: 5 entries, 0 to 4\n",
            "Data columns (total 9 columns):\n",
            " #   Column                Non-Null Count  Dtype \n",
            "---  ------                --------------  ----- \n",
            " 0   Jenis Kelamin         5 non-null      object\n",
            " 1   Umur                  5 non-null      int64 \n",
            " 2   Pendapatan-per-bulan  5 non-null      int64 \n",
            " 3   skor-pengeluaran      5 non-null      int64 \n",
            " 4   Menikah               5 non-null      int64 \n",
            " 5   Kota                  5 non-null      object\n",
            " 6   Promo                 5 non-null      object\n",
            " 7   HariFav               5 non-null      object\n",
            " 8   FavFlavor             5 non-null      int64 \n",
            "dtypes: int64(5), object(4)\n",
            "memory usage: 488.0+ bytes\n"
          ]
        }
      ]
    },
    {
      "cell_type": "markdown",
      "source": [
        "dikarenakan..... disini bisa ngomongin ttg tipe variabel yg slaaah\n",
        "dan ada nggaa missing valuenyaa"
      ],
      "metadata": {
        "id": "XoSYcgFcvIhQ"
      }
    },
    {
      "cell_type": "code",
      "source": [
        "df['Jenis Kelamin'] = df['Jenis Kelamin'].astype('category')\n",
        "df['Pendapatan-per-bulan'] = df['Pendapatan-per-bulan'].astype('int64') #pendapatan perbulan itu tipe datanya apa ya? atau float64?\n",
        "df['Menikah']=df['Menikah'].astype('category')\n",
        "df['Kota']=df['Kota'].astype('category')\n",
        "df['Promo']=df['Promo'].astype('category')\n",
        "df['HariFav']=df['HariFav'].astype('category')\n",
        "df['FavFlavor']=df['FavFlavor'].astype('category')\n",
        "df.dtypes"
      ],
      "metadata": {
        "colab": {
          "base_uri": "https://localhost:8080/"
        },
        "id": "pC7NoDGPsi9q",
        "outputId": "a505646d-4a54-4020-d1b3-f073cc045cb0"
      },
      "execution_count": null,
      "outputs": [
        {
          "output_type": "execute_result",
          "data": {
            "text/plain": [
              "Jenis Kelamin           category\n",
              "Umur                       int64\n",
              "Pendapatan-per-bulan       int64\n",
              "skor-pengeluaran           int64\n",
              "Menikah                 category\n",
              "Kota                    category\n",
              "Promo                   category\n",
              "HariFav                 category\n",
              "FavFlavor               category\n",
              "dtype: object"
            ]
          },
          "metadata": {},
          "execution_count": 84
        }
      ]
    },
    {
      "cell_type": "markdown",
      "source": [
        "## Statistika Deskriptif"
      ],
      "metadata": {
        "id": "_O1aj0aNvXjN"
      }
    },
    {
      "cell_type": "code",
      "source": [
        " df.describe(include=\"all\")"
      ],
      "metadata": {
        "colab": {
          "base_uri": "https://localhost:8080/",
          "height": 394
        },
        "id": "Xwyh5fVYva5V",
        "outputId": "a26c8ac6-d310-49e7-9678-3f74aa13e90b"
      },
      "execution_count": null,
      "outputs": [
        {
          "output_type": "execute_result",
          "data": {
            "text/plain": [
              "       Jenis Kelamin       Umur  Pendapatan-per-bulan  skor-pengeluaran  \\\n",
              "count              5   5.000000          5.000000e+00          5.000000   \n",
              "unique             2        NaN                   NaN               NaN   \n",
              "top           Wanita        NaN                   NaN               NaN   \n",
              "freq               3        NaN                   NaN               NaN   \n",
              "mean             NaN  39.800000          1.333770e+07         65.000000   \n",
              "std              NaN   9.523655          6.879531e+06         22.561028   \n",
              "min              NaN  31.000000          3.606557e+06         41.000000   \n",
              "25%              NaN  32.000000          1.147541e+07         52.000000   \n",
              "50%              NaN  36.000000          1.311475e+07         54.000000   \n",
              "75%              NaN  49.000000          1.598361e+07         86.000000   \n",
              "max              NaN  51.000000          2.250820e+07         92.000000   \n",
              "\n",
              "        Menikah   Kota Promo HariFav  FavFlavor  \n",
              "count       5.0      5     5       5        5.0  \n",
              "unique      2.0      3     4       4        4.0  \n",
              "top         1.0  Depok     1  Minggu        6.0  \n",
              "freq        4.0      2     2       2        2.0  \n",
              "mean        NaN    NaN   NaN     NaN        NaN  \n",
              "std         NaN    NaN   NaN     NaN        NaN  \n",
              "min         NaN    NaN   NaN     NaN        NaN  \n",
              "25%         NaN    NaN   NaN     NaN        NaN  \n",
              "50%         NaN    NaN   NaN     NaN        NaN  \n",
              "75%         NaN    NaN   NaN     NaN        NaN  \n",
              "max         NaN    NaN   NaN     NaN        NaN  "
            ],
            "text/html": [
              "\n",
              "  <div id=\"df-59044704-3d6e-4ee3-876d-ab293b0c76dc\">\n",
              "    <div class=\"colab-df-container\">\n",
              "      <div>\n",
              "<style scoped>\n",
              "    .dataframe tbody tr th:only-of-type {\n",
              "        vertical-align: middle;\n",
              "    }\n",
              "\n",
              "    .dataframe tbody tr th {\n",
              "        vertical-align: top;\n",
              "    }\n",
              "\n",
              "    .dataframe thead th {\n",
              "        text-align: right;\n",
              "    }\n",
              "</style>\n",
              "<table border=\"1\" class=\"dataframe\">\n",
              "  <thead>\n",
              "    <tr style=\"text-align: right;\">\n",
              "      <th></th>\n",
              "      <th>Jenis Kelamin</th>\n",
              "      <th>Umur</th>\n",
              "      <th>Pendapatan-per-bulan</th>\n",
              "      <th>skor-pengeluaran</th>\n",
              "      <th>Menikah</th>\n",
              "      <th>Kota</th>\n",
              "      <th>Promo</th>\n",
              "      <th>HariFav</th>\n",
              "      <th>FavFlavor</th>\n",
              "    </tr>\n",
              "  </thead>\n",
              "  <tbody>\n",
              "    <tr>\n",
              "      <th>count</th>\n",
              "      <td>5</td>\n",
              "      <td>5.000000</td>\n",
              "      <td>5.000000e+00</td>\n",
              "      <td>5.000000</td>\n",
              "      <td>5.0</td>\n",
              "      <td>5</td>\n",
              "      <td>5</td>\n",
              "      <td>5</td>\n",
              "      <td>5.0</td>\n",
              "    </tr>\n",
              "    <tr>\n",
              "      <th>unique</th>\n",
              "      <td>2</td>\n",
              "      <td>NaN</td>\n",
              "      <td>NaN</td>\n",
              "      <td>NaN</td>\n",
              "      <td>2.0</td>\n",
              "      <td>3</td>\n",
              "      <td>4</td>\n",
              "      <td>4</td>\n",
              "      <td>4.0</td>\n",
              "    </tr>\n",
              "    <tr>\n",
              "      <th>top</th>\n",
              "      <td>Wanita</td>\n",
              "      <td>NaN</td>\n",
              "      <td>NaN</td>\n",
              "      <td>NaN</td>\n",
              "      <td>1.0</td>\n",
              "      <td>Depok</td>\n",
              "      <td>1</td>\n",
              "      <td>Minggu</td>\n",
              "      <td>6.0</td>\n",
              "    </tr>\n",
              "    <tr>\n",
              "      <th>freq</th>\n",
              "      <td>3</td>\n",
              "      <td>NaN</td>\n",
              "      <td>NaN</td>\n",
              "      <td>NaN</td>\n",
              "      <td>4.0</td>\n",
              "      <td>2</td>\n",
              "      <td>2</td>\n",
              "      <td>2</td>\n",
              "      <td>2.0</td>\n",
              "    </tr>\n",
              "    <tr>\n",
              "      <th>mean</th>\n",
              "      <td>NaN</td>\n",
              "      <td>39.800000</td>\n",
              "      <td>1.333770e+07</td>\n",
              "      <td>65.000000</td>\n",
              "      <td>NaN</td>\n",
              "      <td>NaN</td>\n",
              "      <td>NaN</td>\n",
              "      <td>NaN</td>\n",
              "      <td>NaN</td>\n",
              "    </tr>\n",
              "    <tr>\n",
              "      <th>std</th>\n",
              "      <td>NaN</td>\n",
              "      <td>9.523655</td>\n",
              "      <td>6.879531e+06</td>\n",
              "      <td>22.561028</td>\n",
              "      <td>NaN</td>\n",
              "      <td>NaN</td>\n",
              "      <td>NaN</td>\n",
              "      <td>NaN</td>\n",
              "      <td>NaN</td>\n",
              "    </tr>\n",
              "    <tr>\n",
              "      <th>min</th>\n",
              "      <td>NaN</td>\n",
              "      <td>31.000000</td>\n",
              "      <td>3.606557e+06</td>\n",
              "      <td>41.000000</td>\n",
              "      <td>NaN</td>\n",
              "      <td>NaN</td>\n",
              "      <td>NaN</td>\n",
              "      <td>NaN</td>\n",
              "      <td>NaN</td>\n",
              "    </tr>\n",
              "    <tr>\n",
              "      <th>25%</th>\n",
              "      <td>NaN</td>\n",
              "      <td>32.000000</td>\n",
              "      <td>1.147541e+07</td>\n",
              "      <td>52.000000</td>\n",
              "      <td>NaN</td>\n",
              "      <td>NaN</td>\n",
              "      <td>NaN</td>\n",
              "      <td>NaN</td>\n",
              "      <td>NaN</td>\n",
              "    </tr>\n",
              "    <tr>\n",
              "      <th>50%</th>\n",
              "      <td>NaN</td>\n",
              "      <td>36.000000</td>\n",
              "      <td>1.311475e+07</td>\n",
              "      <td>54.000000</td>\n",
              "      <td>NaN</td>\n",
              "      <td>NaN</td>\n",
              "      <td>NaN</td>\n",
              "      <td>NaN</td>\n",
              "      <td>NaN</td>\n",
              "    </tr>\n",
              "    <tr>\n",
              "      <th>75%</th>\n",
              "      <td>NaN</td>\n",
              "      <td>49.000000</td>\n",
              "      <td>1.598361e+07</td>\n",
              "      <td>86.000000</td>\n",
              "      <td>NaN</td>\n",
              "      <td>NaN</td>\n",
              "      <td>NaN</td>\n",
              "      <td>NaN</td>\n",
              "      <td>NaN</td>\n",
              "    </tr>\n",
              "    <tr>\n",
              "      <th>max</th>\n",
              "      <td>NaN</td>\n",
              "      <td>51.000000</td>\n",
              "      <td>2.250820e+07</td>\n",
              "      <td>92.000000</td>\n",
              "      <td>NaN</td>\n",
              "      <td>NaN</td>\n",
              "      <td>NaN</td>\n",
              "      <td>NaN</td>\n",
              "      <td>NaN</td>\n",
              "    </tr>\n",
              "  </tbody>\n",
              "</table>\n",
              "</div>\n",
              "      <button class=\"colab-df-convert\" onclick=\"convertToInteractive('df-59044704-3d6e-4ee3-876d-ab293b0c76dc')\"\n",
              "              title=\"Convert this dataframe to an interactive table.\"\n",
              "              style=\"display:none;\">\n",
              "        \n",
              "  <svg xmlns=\"http://www.w3.org/2000/svg\" height=\"24px\"viewBox=\"0 0 24 24\"\n",
              "       width=\"24px\">\n",
              "    <path d=\"M0 0h24v24H0V0z\" fill=\"none\"/>\n",
              "    <path d=\"M18.56 5.44l.94 2.06.94-2.06 2.06-.94-2.06-.94-.94-2.06-.94 2.06-2.06.94zm-11 1L8.5 8.5l.94-2.06 2.06-.94-2.06-.94L8.5 2.5l-.94 2.06-2.06.94zm10 10l.94 2.06.94-2.06 2.06-.94-2.06-.94-.94-2.06-.94 2.06-2.06.94z\"/><path d=\"M17.41 7.96l-1.37-1.37c-.4-.4-.92-.59-1.43-.59-.52 0-1.04.2-1.43.59L10.3 9.45l-7.72 7.72c-.78.78-.78 2.05 0 2.83L4 21.41c.39.39.9.59 1.41.59.51 0 1.02-.2 1.41-.59l7.78-7.78 2.81-2.81c.8-.78.8-2.07 0-2.86zM5.41 20L4 18.59l7.72-7.72 1.47 1.35L5.41 20z\"/>\n",
              "  </svg>\n",
              "      </button>\n",
              "      \n",
              "  <style>\n",
              "    .colab-df-container {\n",
              "      display:flex;\n",
              "      flex-wrap:wrap;\n",
              "      gap: 12px;\n",
              "    }\n",
              "\n",
              "    .colab-df-convert {\n",
              "      background-color: #E8F0FE;\n",
              "      border: none;\n",
              "      border-radius: 50%;\n",
              "      cursor: pointer;\n",
              "      display: none;\n",
              "      fill: #1967D2;\n",
              "      height: 32px;\n",
              "      padding: 0 0 0 0;\n",
              "      width: 32px;\n",
              "    }\n",
              "\n",
              "    .colab-df-convert:hover {\n",
              "      background-color: #E2EBFA;\n",
              "      box-shadow: 0px 1px 2px rgba(60, 64, 67, 0.3), 0px 1px 3px 1px rgba(60, 64, 67, 0.15);\n",
              "      fill: #174EA6;\n",
              "    }\n",
              "\n",
              "    [theme=dark] .colab-df-convert {\n",
              "      background-color: #3B4455;\n",
              "      fill: #D2E3FC;\n",
              "    }\n",
              "\n",
              "    [theme=dark] .colab-df-convert:hover {\n",
              "      background-color: #434B5C;\n",
              "      box-shadow: 0px 1px 3px 1px rgba(0, 0, 0, 0.15);\n",
              "      filter: drop-shadow(0px 1px 2px rgba(0, 0, 0, 0.3));\n",
              "      fill: #FFFFFF;\n",
              "    }\n",
              "  </style>\n",
              "\n",
              "      <script>\n",
              "        const buttonEl =\n",
              "          document.querySelector('#df-59044704-3d6e-4ee3-876d-ab293b0c76dc button.colab-df-convert');\n",
              "        buttonEl.style.display =\n",
              "          google.colab.kernel.accessAllowed ? 'block' : 'none';\n",
              "\n",
              "        async function convertToInteractive(key) {\n",
              "          const element = document.querySelector('#df-59044704-3d6e-4ee3-876d-ab293b0c76dc');\n",
              "          const dataTable =\n",
              "            await google.colab.kernel.invokeFunction('convertToInteractive',\n",
              "                                                     [key], {});\n",
              "          if (!dataTable) return;\n",
              "\n",
              "          const docLinkHtml = 'Like what you see? Visit the ' +\n",
              "            '<a target=\"_blank\" href=https://colab.research.google.com/notebooks/data_table.ipynb>data table notebook</a>'\n",
              "            + ' to learn more about interactive tables.';\n",
              "          element.innerHTML = '';\n",
              "          dataTable['output_type'] = 'display_data';\n",
              "          await google.colab.output.renderOutput(dataTable, element);\n",
              "          const docLink = document.createElement('div');\n",
              "          docLink.innerHTML = docLinkHtml;\n",
              "          element.appendChild(docLink);\n",
              "        }\n",
              "      </script>\n",
              "    </div>\n",
              "  </div>\n",
              "  "
            ]
          },
          "metadata": {},
          "execution_count": 85
        }
      ]
    },
    {
      "cell_type": "markdown",
      "source": [
        "penjelasannya apa ya............... gaada noise yaaa, terus count disitu menjelaskan jumlah non nul value, terus dibandingin sama baris dataset yg dimiliki"
      ],
      "metadata": {
        "id": "-ukt8aATxpC8"
      }
    },
    {
      "cell_type": "markdown",
      "source": [
        "# Distribusi Tiap Data Variabel Kategorik"
      ],
      "metadata": {
        "id": "bArWLdBYkMDl"
      }
    },
    {
      "cell_type": "code",
      "source": [
        "df['Jenis Kelamin'].value_counts()"
      ],
      "metadata": {
        "colab": {
          "base_uri": "https://localhost:8080/"
        },
        "id": "c5CnK7OQkO0m",
        "outputId": "a0ca7426-bbc4-4ac4-e51f-4487566b73e8"
      },
      "execution_count": null,
      "outputs": [
        {
          "output_type": "execute_result",
          "data": {
            "text/plain": [
              "Wanita    3\n",
              "Pria      2\n",
              "Name: Jenis Kelamin, dtype: int64"
            ]
          },
          "metadata": {},
          "execution_count": 86
        }
      ]
    },
    {
      "cell_type": "code",
      "source": [
        "df['Menikah'].value_counts()"
      ],
      "metadata": {
        "colab": {
          "base_uri": "https://localhost:8080/"
        },
        "id": "9GYOxd-QkVth",
        "outputId": "73b392bf-bb7b-4cb8-f177-dbb95d2e4512"
      },
      "execution_count": null,
      "outputs": [
        {
          "output_type": "execute_result",
          "data": {
            "text/plain": [
              "1    4\n",
              "0    1\n",
              "Name: Menikah, dtype: int64"
            ]
          },
          "metadata": {},
          "execution_count": 87
        }
      ]
    },
    {
      "cell_type": "code",
      "source": [
        "df['Kota'].value_counts()"
      ],
      "metadata": {
        "colab": {
          "base_uri": "https://localhost:8080/"
        },
        "id": "mC-9tE6rkcso",
        "outputId": "01c402bb-6344-44ea-f9d5-071a41cca12e"
      },
      "execution_count": null,
      "outputs": [
        {
          "output_type": "execute_result",
          "data": {
            "text/plain": [
              "Depok        2\n",
              "Jakarta      2\n",
              "Tangerang    1\n",
              "Name: Kota, dtype: int64"
            ]
          },
          "metadata": {},
          "execution_count": 88
        }
      ]
    },
    {
      "cell_type": "code",
      "source": [
        "df['Promo'].value_counts()"
      ],
      "metadata": {
        "colab": {
          "base_uri": "https://localhost:8080/"
        },
        "id": "Dvhe1dApkkgD",
        "outputId": "7966ec44-caae-4b49-9fd1-3d2642956bc8"
      },
      "execution_count": null,
      "outputs": [
        {
          "output_type": "execute_result",
          "data": {
            "text/plain": [
              "1    2\n",
              "-    1\n",
              "0    1\n",
              "2    1\n",
              "Name: Promo, dtype: int64"
            ]
          },
          "metadata": {},
          "execution_count": 89
        }
      ]
    },
    {
      "cell_type": "code",
      "source": [
        "df['HariFav'].value_counts()"
      ],
      "metadata": {
        "colab": {
          "base_uri": "https://localhost:8080/"
        },
        "id": "bWoIzXJFkp2w",
        "outputId": "0caa59a4-95ce-4fe4-df9b-a1650aa347a2"
      },
      "execution_count": null,
      "outputs": [
        {
          "output_type": "execute_result",
          "data": {
            "text/plain": [
              "Minggu    2\n",
              "Jumat     1\n",
              "Sabtu     1\n",
              "Senin     1\n",
              "Name: HariFav, dtype: int64"
            ]
          },
          "metadata": {},
          "execution_count": 90
        }
      ]
    },
    {
      "cell_type": "code",
      "source": [
        "df['FavFlavor'].value_counts()"
      ],
      "metadata": {
        "colab": {
          "base_uri": "https://localhost:8080/"
        },
        "id": "G7b_NluDk83G",
        "outputId": "be5409e6-4d60-4ebb-bd87-6eb2cb4c1ece"
      },
      "execution_count": null,
      "outputs": [
        {
          "output_type": "execute_result",
          "data": {
            "text/plain": [
              "6    2\n",
              "0    1\n",
              "2    1\n",
              "3    1\n",
              "Name: FavFlavor, dtype: int64"
            ]
          },
          "metadata": {},
          "execution_count": 91
        }
      ]
    },
    {
      "cell_type": "markdown",
      "source": [
        "## MISSING VALUES"
      ],
      "metadata": {
        "id": "P1P5dkbh0Iur"
      }
    },
    {
      "cell_type": "code",
      "source": [
        "# Amount of missing values for every colomn\n",
        "df.isnull().sum()"
      ],
      "metadata": {
        "colab": {
          "base_uri": "https://localhost:8080/"
        },
        "id": "8RubQh640M_R",
        "outputId": "2885e5c2-1018-4d9f-cb28-1af1c9531876"
      },
      "execution_count": null,
      "outputs": [
        {
          "output_type": "execute_result",
          "data": {
            "text/plain": [
              "Jenis Kelamin           0\n",
              "Umur                    0\n",
              "Pendapatan-per-bulan    0\n",
              "skor-pengeluaran        0\n",
              "Menikah                 0\n",
              "Kota                    0\n",
              "Promo                   0\n",
              "HariFav                 0\n",
              "FavFlavor               0\n",
              "dtype: int64"
            ]
          },
          "metadata": {},
          "execution_count": 92
        }
      ]
    },
    {
      "cell_type": "code",
      "source": [
        "# Proportion Missing Values for every colomn\n",
        "df.isnull().sum()/df.shape[0]"
      ],
      "metadata": {
        "colab": {
          "base_uri": "https://localhost:8080/"
        },
        "id": "XHx6UH4z0ULz",
        "outputId": "64b7d80d-e6d5-4578-a2fe-a216a6b72282"
      },
      "execution_count": null,
      "outputs": [
        {
          "output_type": "execute_result",
          "data": {
            "text/plain": [
              "Jenis Kelamin           0.0\n",
              "Umur                    0.0\n",
              "Pendapatan-per-bulan    0.0\n",
              "skor-pengeluaran        0.0\n",
              "Menikah                 0.0\n",
              "Kota                    0.0\n",
              "Promo                   0.0\n",
              "HariFav                 0.0\n",
              "FavFlavor               0.0\n",
              "dtype: float64"
            ]
          },
          "metadata": {},
          "execution_count": 93
        }
      ]
    },
    {
      "cell_type": "code",
      "source": [
        "msnum.matrix(df)"
      ],
      "metadata": {
        "colab": {
          "base_uri": "https://localhost:8080/",
          "height": 731
        },
        "id": "ap8O8tOa0bgN",
        "outputId": "6a2772a9-9082-4bc5-a988-536d121d0944"
      },
      "execution_count": null,
      "outputs": [
        {
          "output_type": "execute_result",
          "data": {
            "text/plain": [
              "<matplotlib.axes._subplots.AxesSubplot at 0x7f3e6f108f50>"
            ]
          },
          "metadata": {},
          "execution_count": 94
        },
        {
          "output_type": "display_data",
          "data": {
            "text/plain": [
              "<Figure size 1800x720 with 2 Axes>"
            ],
            "image/png": "[encoded data removed]"
          },
          "metadata": {
            "needs_background": "light"
          }
        }
      ]
    },
    {
      "cell_type": "markdown",
      "source": [
        "KASIH PENJELASANN... PADA HEATMAP DAPT DILIHAT BAHWA MISSIBG VALUE TIDAK TERSEBAR PADA SEMUA KOLOM.. Namun, perhatikan bahwa sebelumnya saat dilihat dari cuplikan data yang ada, terdapat tanda strip dimana dalam kolom tersebut ada missing values. Namun, belum terdeteksi, oleh karena itu akan ............cek website https://blog.sanbercode.com/docs/materi-eda/data-type-missing-value-outlier/\n",
        "\n",
        "Namun, tidak semua data yang kita miliki/dapatkan, konsisten memberikan nilai NaN untuk data kosong. Contohnya ada yang berisi n/a, blank space, … (titik-titik), – (dash/double dash), dan lain-lain. Maka kita perlu melakukan data cleaning terlebih dahulu.\n",
        "\n",
        "Sebagai contoh, kita dapat melakukan cek pada data, yaitu dengan melakukan pengecekan pada column `promo`, dengan cara berikut:\n"
      ],
      "metadata": {
        "id": "vgpOy2Qa0iZv"
      }
    },
    {
      "cell_type": "code",
      "source": [
        "print(df['Promo'])\n",
        "print(df['Promo'].isnull())"
      ],
      "metadata": {
        "colab": {
          "base_uri": "https://localhost:8080/"
        },
        "id": "tkSCbjMa2tWa",
        "outputId": "dfb79c29-e35f-45ae-8a07-193a704498e9"
      },
      "execution_count": null,
      "outputs": [
        {
          "output_type": "stream",
          "name": "stdout",
          "text": [
            "0    1\n",
            "1    1\n",
            "2    2\n",
            "3    -\n",
            "4    0\n",
            "Name: Promo, dtype: category\n",
            "Categories (4, object): ['-', '0', '1', '2']\n",
            "0    False\n",
            "1    False\n",
            "2    False\n",
            "3    False\n",
            "4    False\n",
            "Name: Promo, dtype: bool\n"
          ]
        }
      ]
    },
    {
      "cell_type": "markdown",
      "source": [
        "Perhatikan bahwa data yang berisikan \"-\" tanda strip tidak dibaca sebagai data kosong. cara yang dapat kita lakukan adalah dengan memasukkan format missing values yang tidak terbaca tersebut kedalam list, sehingga akan di anggap juga sebagai data missing seperti berikut:"
      ],
      "metadata": {
        "id": "Ov9u7SYD23xg"
      }
    },
    {
      "cell_type": "code",
      "source": [
        "df['Promo']=df['Promo'].replace('-',np.NaN)#ini kalau direplace dengan 0 np.NaN nya diganti angka 0 aja #kalau mau ganti mean juga bisa cek aja disitu"
      ],
      "metadata": {
        "id": "76nkCFcbmUml"
      },
      "execution_count": null,
      "outputs": []
    },
    {
      "cell_type": "markdown",
      "source": [
        "sumbernya disini : https://ilmudatapy.com/menangani-missing-values/"
      ],
      "metadata": {
        "id": "faPsjaAOnrgO"
      }
    },
    {
      "cell_type": "code",
      "source": [
        "print(df['Promo'])\n",
        "print(df['Promo'].isnull())"
      ],
      "metadata": {
        "colab": {
          "base_uri": "https://localhost:8080/"
        },
        "id": "lRe8tMZgmiQh",
        "outputId": "8c7b05da-57ab-4c84-cdd4-f4a31c263109"
      },
      "execution_count": null,
      "outputs": [
        {
          "output_type": "stream",
          "name": "stdout",
          "text": [
            "0      1\n",
            "1      1\n",
            "2      2\n",
            "3    NaN\n",
            "4      0\n",
            "Name: Promo, dtype: category\n",
            "Categories (3, object): ['0', '1', '2']\n",
            "0    False\n",
            "1    False\n",
            "2    False\n",
            "3     True\n",
            "4    False\n",
            "Name: Promo, dtype: bool\n"
          ]
        }
      ]
    },
    {
      "cell_type": "markdown",
      "source": [
        "sebentar mikir dulu ini ditimpa, atau diasumsi 0 atau diapus pikirin caranya"
      ],
      "metadata": {
        "id": "5chkpszC33t0"
      }
    },
    {
      "cell_type": "markdown",
      "source": [
        "ENAKNYA STRIPNYA DIANGGAP MISSING VALUE ATAU DIANGGAP 0 AJA YAAAA? KALO DIANGGAP 0 ITU GIMANA CARA CODINGNYAA"
      ],
      "metadata": {
        "id": "d_A9NZNf3IJI"
      }
    },
    {
      "cell_type": "markdown",
      "source": [
        "Lalu, kalo dihapus missing valuenya gini caranya :"
      ],
      "metadata": {
        "id": "fV8goyJ4nyaJ"
      }
    },
    {
      "cell_type": "code",
      "source": [
        "df_new=df.dropna()#kalau dikit ya"
      ],
      "metadata": {
        "id": "lX4T8T7hn3r4"
      },
      "execution_count": null,
      "outputs": []
    },
    {
      "cell_type": "code",
      "source": [
        "df_new"
      ],
      "metadata": {
        "colab": {
          "base_uri": "https://localhost:8080/",
          "height": 175
        },
        "id": "la-_S8iuo07y",
        "outputId": "3fbf1c3f-c7b5-4677-8f57-9e8416e3e124"
      },
      "execution_count": null,
      "outputs": [
        {
          "output_type": "execute_result",
          "data": {
            "text/plain": [
              "  Jenis Kelamin  Umur  Pendapatan-per-bulan  skor-pengeluaran Menikah  \\\n",
              "0        Wanita    49              13114754                52       1   \n",
              "1        Wanita    32               3606557                86       1   \n",
              "2          Pria    51              15983606                41       0   \n",
              "4          Pria    36              22508196                92       1   \n",
              "\n",
              "        Kota Promo HariFav FavFlavor  \n",
              "0    Jakarta     1   Sabtu         2  \n",
              "1      Depok     1  Minggu         6  \n",
              "2  Tangerang     2  Minggu         3  \n",
              "4      Depok     0   Jumat         0  "
            ],
            "text/html": [
              "\n",
              "  <div id=\"df-e0350fee-76ae-4e93-a180-d99a50968a2e\">\n",
              "    <div class=\"colab-df-container\">\n",
              "      <div>\n",
              "<style scoped>\n",
              "    .dataframe tbody tr th:only-of-type {\n",
              "        vertical-align: middle;\n",
              "    }\n",
              "\n",
              "    .dataframe tbody tr th {\n",
              "        vertical-align: top;\n",
              "    }\n",
              "\n",
              "    .dataframe thead th {\n",
              "        text-align: right;\n",
              "    }\n",
              "</style>\n",
              "<table border=\"1\" class=\"dataframe\">\n",
              "  <thead>\n",
              "    <tr style=\"text-align: right;\">\n",
              "      <th></th>\n",
              "      <th>Jenis Kelamin</th>\n",
              "      <th>Umur</th>\n",
              "      <th>Pendapatan-per-bulan</th>\n",
              "      <th>skor-pengeluaran</th>\n",
              "      <th>Menikah</th>\n",
              "      <th>Kota</th>\n",
              "      <th>Promo</th>\n",
              "      <th>HariFav</th>\n",
              "      <th>FavFlavor</th>\n",
              "    </tr>\n",
              "  </thead>\n",
              "  <tbody>\n",
              "    <tr>\n",
              "      <th>0</th>\n",
              "      <td>Wanita</td>\n",
              "      <td>49</td>\n",
              "      <td>13114754</td>\n",
              "      <td>52</td>\n",
              "      <td>1</td>\n",
              "      <td>Jakarta</td>\n",
              "      <td>1</td>\n",
              "      <td>Sabtu</td>\n",
              "      <td>2</td>\n",
              "    </tr>\n",
              "    <tr>\n",
              "      <th>1</th>\n",
              "      <td>Wanita</td>\n",
              "      <td>32</td>\n",
              "      <td>3606557</td>\n",
              "      <td>86</td>\n",
              "      <td>1</td>\n",
              "      <td>Depok</td>\n",
              "      <td>1</td>\n",
              "      <td>Minggu</td>\n",
              "      <td>6</td>\n",
              "    </tr>\n",
              "    <tr>\n",
              "      <th>2</th>\n",
              "      <td>Pria</td>\n",
              "      <td>51</td>\n",
              "      <td>15983606</td>\n",
              "      <td>41</td>\n",
              "      <td>0</td>\n",
              "      <td>Tangerang</td>\n",
              "      <td>2</td>\n",
              "      <td>Minggu</td>\n",
              "      <td>3</td>\n",
              "    </tr>\n",
              "    <tr>\n",
              "      <th>4</th>\n",
              "      <td>Pria</td>\n",
              "      <td>36</td>\n",
              "      <td>22508196</td>\n",
              "      <td>92</td>\n",
              "      <td>1</td>\n",
              "      <td>Depok</td>\n",
              "      <td>0</td>\n",
              "      <td>Jumat</td>\n",
              "      <td>0</td>\n",
              "    </tr>\n",
              "  </tbody>\n",
              "</table>\n",
              "</div>\n",
              "      <button class=\"colab-df-convert\" onclick=\"convertToInteractive('df-e0350fee-76ae-4e93-a180-d99a50968a2e')\"\n",
              "              title=\"Convert this dataframe to an interactive table.\"\n",
              "              style=\"display:none;\">\n",
              "        \n",
              "  <svg xmlns=\"http://www.w3.org/2000/svg\" height=\"24px\"viewBox=\"0 0 24 24\"\n",
              "       width=\"24px\">\n",
              "    <path d=\"M0 0h24v24H0V0z\" fill=\"none\"/>\n",
              "    <path d=\"M18.56 5.44l.94 2.06.94-2.06 2.06-.94-2.06-.94-.94-2.06-.94 2.06-2.06.94zm-11 1L8.5 8.5l.94-2.06 2.06-.94-2.06-.94L8.5 2.5l-.94 2.06-2.06.94zm10 10l.94 2.06.94-2.06 2.06-.94-2.06-.94-.94-2.06-.94 2.06-2.06.94z\"/><path d=\"M17.41 7.96l-1.37-1.37c-.4-.4-.92-.59-1.43-.59-.52 0-1.04.2-1.43.59L10.3 9.45l-7.72 7.72c-.78.78-.78 2.05 0 2.83L4 21.41c.39.39.9.59 1.41.59.51 0 1.02-.2 1.41-.59l7.78-7.78 2.81-2.81c.8-.78.8-2.07 0-2.86zM5.41 20L4 18.59l7.72-7.72 1.47 1.35L5.41 20z\"/>\n",
              "  </svg>\n",
              "      </button>\n",
              "      \n",
              "  <style>\n",
              "    .colab-df-container {\n",
              "      display:flex;\n",
              "      flex-wrap:wrap;\n",
              "      gap: 12px;\n",
              "    }\n",
              "\n",
              "    .colab-df-convert {\n",
              "      background-color: #E8F0FE;\n",
              "      border: none;\n",
              "      border-radius: 50%;\n",
              "      cursor: pointer;\n",
              "      display: none;\n",
              "      fill: #1967D2;\n",
              "      height: 32px;\n",
              "      padding: 0 0 0 0;\n",
              "      width: 32px;\n",
              "    }\n",
              "\n",
              "    .colab-df-convert:hover {\n",
              "      background-color: #E2EBFA;\n",
              "      box-shadow: 0px 1px 2px rgba(60, 64, 67, 0.3), 0px 1px 3px 1px rgba(60, 64, 67, 0.15);\n",
              "      fill: #174EA6;\n",
              "    }\n",
              "\n",
              "    [theme=dark] .colab-df-convert {\n",
              "      background-color: #3B4455;\n",
              "      fill: #D2E3FC;\n",
              "    }\n",
              "\n",
              "    [theme=dark] .colab-df-convert:hover {\n",
              "      background-color: #434B5C;\n",
              "      box-shadow: 0px 1px 3px 1px rgba(0, 0, 0, 0.15);\n",
              "      filter: drop-shadow(0px 1px 2px rgba(0, 0, 0, 0.3));\n",
              "      fill: #FFFFFF;\n",
              "    }\n",
              "  </style>\n",
              "\n",
              "      <script>\n",
              "        const buttonEl =\n",
              "          document.querySelector('#df-e0350fee-76ae-4e93-a180-d99a50968a2e button.colab-df-convert');\n",
              "        buttonEl.style.display =\n",
              "          google.colab.kernel.accessAllowed ? 'block' : 'none';\n",
              "\n",
              "        async function convertToInteractive(key) {\n",
              "          const element = document.querySelector('#df-e0350fee-76ae-4e93-a180-d99a50968a2e');\n",
              "          const dataTable =\n",
              "            await google.colab.kernel.invokeFunction('convertToInteractive',\n",
              "                                                     [key], {});\n",
              "          if (!dataTable) return;\n",
              "\n",
              "          const docLinkHtml = 'Like what you see? Visit the ' +\n",
              "            '<a target=\"_blank\" href=https://colab.research.google.com/notebooks/data_table.ipynb>data table notebook</a>'\n",
              "            + ' to learn more about interactive tables.';\n",
              "          element.innerHTML = '';\n",
              "          dataTable['output_type'] = 'display_data';\n",
              "          await google.colab.output.renderOutput(dataTable, element);\n",
              "          const docLink = document.createElement('div');\n",
              "          docLink.innerHTML = docLinkHtml;\n",
              "          element.appendChild(docLink);\n",
              "        }\n",
              "      </script>\n",
              "    </div>\n",
              "  </div>\n",
              "  "
            ]
          },
          "metadata": {},
          "execution_count": 101
        }
      ]
    },
    {
      "cell_type": "markdown",
      "source": [
        "# Removing Duplicate Data pelajarin kalo ada duplicate data gimana"
      ],
      "metadata": {
        "id": "mNRJJQXgyB3j"
      }
    },
    {
      "cell_type": "code",
      "source": [
        "#mengecek apakah ada duplikat data\n",
        "print(df_new.shape)\n",
        "df_new.duplicated().sum()"
      ],
      "metadata": {
        "colab": {
          "base_uri": "https://localhost:8080/"
        },
        "id": "5KkqID2myA14",
        "outputId": "4f9e420e-aff4-4a74-ac51-88f622ed7701"
      },
      "execution_count": null,
      "outputs": [
        {
          "output_type": "stream",
          "name": "stdout",
          "text": [
            "(5, 9)\n"
          ]
        },
        {
          "output_type": "execute_result",
          "data": {
            "text/plain": [
              "0"
            ]
          },
          "metadata": {},
          "execution_count": 59
        }
      ]
    },
    {
      "cell_type": "code",
      "source": [
        "df_new[df_new.duplicated() == True]"
      ],
      "metadata": {
        "id": "ybFNjBU0sie6"
      },
      "execution_count": null,
      "outputs": []
    },
    {
      "cell_type": "code",
      "source": [
        "#menghapus entri yang memiliki data duplikat \n",
        "df_new.drop_duplicates(inplace=True)\n",
        "print(df_new.duplicated().sum()) # no more duplicates\n",
        "print(df_new.shape) # re-check by printing data size"
      ],
      "metadata": {
        "id": "SXgHrNk5stEa"
      },
      "execution_count": null,
      "outputs": []
    },
    {
      "cell_type": "markdown",
      "source": [
        "## Cari Noise/Outlier??"
      ],
      "metadata": {
        "id": "0sqt_ENPymdt"
      }
    },
    {
      "cell_type": "markdown",
      "source": [
        "gimana cara handling noise misal rentangnya 0-100 aja, tp ternyata engga gitu gimana ya?"
      ],
      "metadata": {
        "id": "W1ZpY-i0tYYK"
      }
    },
    {
      "cell_type": "markdown",
      "source": [
        "gimana handling outlier multivariat? cara mengeluarkannya gimana ?"
      ],
      "metadata": {
        "id": "oN-x8Yhct6kL"
      }
    },
    {
      "cell_type": "markdown",
      "source": [
        "https://hub.idbigdata.com/sigit-prasetyo/panduan-praktis-penggunaan-pandas-bagian-1-39"
      ],
      "metadata": {
        "id": "1ujmnD9Iz8k8"
      }
    },
    {
      "cell_type": "markdown",
      "source": [
        "cek modul noise tugas kemarin"
      ],
      "metadata": {
        "id": "euBEBevOz-0Q"
      }
    },
    {
      "cell_type": "code",
      "source": [
        "p = sns.boxplot(x=\"House_Price\", y=\"Parking\", data=price)"
      ],
      "metadata": {
        "id": "EzsGfD8jyqF3"
      },
      "execution_count": null,
      "outputs": []
    },
    {
      "cell_type": "code",
      "source": [
        "import csv\n",
        "with open('https://raw.githubusercontent.com/HanaAdzania/1/main/Case-Study-02-MixITup.csv?token=GHSAT0AAAAAABZAUUHG7RFNTPHNJMAW7NOAYZ6RBOA') as csvfile:\n",
        "    readCSV = csv.reader(csvfile, delimiter=';')\n",
        "    for row in readCSV:\n",
        "        print(row)"
      ],
      "metadata": {
        "id": "Rx-xdDZpjRZw"
      },
      "execution_count": null,
      "outputs": []
    },
    {
      "cell_type": "code",
      "source": [
        "# Jika anda menjalankan Jupyter notebook ini secara lokal, maka perlu penyesuaian\n",
        "try:\n",
        "    import google.colab; IN_COLAB = True\n",
        "    !pip install openpyxl\n",
        "except:\n",
        "    print('Jika belum, silahkan install module openpyxl dari terminal Env anda (recommended).') #IN_COLAB = False"
      ],
      "metadata": {
        "colab": {
          "base_uri": "https://localhost:8080/"
        },
        "id": "xC1OPrNVhETo",
        "outputId": "6c67ea22-f517-472e-951c-c7737b510784"
      },
      "execution_count": null,
      "outputs": [
        {
          "output_type": "stream",
          "name": "stdout",
          "text": [
            "Looking in indexes: https://pypi.org/simple, https://us-python.pkg.dev/colab-wheels/public/simple/\n",
            "Requirement already satisfied: openpyxl in /usr/local/lib/python3.7/dist-packages (3.0.10)\n",
            "Requirement already satisfied: et-xmlfile in /usr/local/lib/python3.7/dist-packages (from openpyxl) (1.1.0)\n"
          ]
        }
      ]
    }
  ]
}